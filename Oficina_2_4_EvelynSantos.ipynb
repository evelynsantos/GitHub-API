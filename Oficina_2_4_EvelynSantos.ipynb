{
  "nbformat": 4,
  "nbformat_minor": 0,
  "metadata": {
    "celltoolbar": "Slideshow",
    "kernelspec": {
      "display_name": "Python 3",
      "language": "python",
      "name": "python3"
    },
    "language_info": {
      "codemirror_mode": {
        "name": "ipython",
        "version": 3
      },
      "file_extension": ".py",
      "mimetype": "text/x-python",
      "name": "python",
      "nbconvert_exporter": "python",
      "pygments_lexer": "ipython3",
      "version": "3.6.8"
    },
    "toc": {
      "base_numbering": 1,
      "nav_menu": {},
      "number_sections": true,
      "sideBar": true,
      "skip_h1_title": true,
      "title_cell": "Índice",
      "title_sidebar": "Contents",
      "toc_cell": false,
      "toc_position": {
        "height": "calc(100% - 180px)",
        "left": "10px",
        "top": "150px",
        "width": "337px"
      },
      "toc_section_display": true,
      "toc_window_display": true
    },
    "colab": {
      "name": "Oficina_2.4_EvelynSantos.ipynb",
      "provenance": [],
      "collapsed_sections": [],
      "include_colab_link": true
    }
  },
  "cells": [
    {
      "cell_type": "markdown",
      "metadata": {
        "id": "view-in-github",
        "colab_type": "text"
      },
      "source": [
        "<a href=\"https://colab.research.google.com/github/evelynsantos/GitHub-API/blob/master/Oficina_2_4_EvelynSantos.ipynb\" target=\"_parent\"><img src=\"https://colab.research.google.com/assets/colab-badge.svg\" alt=\"Open In Colab\"/></a>"
      ]
    },
    {
      "cell_type": "markdown",
      "metadata": {
        "id": "HvXukDHVtAg3"
      },
      "source": [
        "# Micro 09: Conjuntos e suas utilizações &ndash; oficina\n",
        "\n",
        "Ao planejar um casamento, um casal monta sua lista de presentes e faz uma pesquisa para encontrar algumas lojas de departamentos que trabalhem com este serviço. O casal encontra 4 lojas favoráveis, mas cada uma oferece apenas alguns dos presentes que gostariam de ganhar. Como não dá para colocar a lista em todas as lojas ao mesmo tempo, algumas perguntas podem ajudar a decidir o que fazer, como: \n",
        "\n",
        "1. Quais produtos são oferecidos em ao menos uma loja? \n",
        "1. Quais produtos são oferecidos em todas as lojas? \n",
        "1. Quais produtos não são encontrados em nenhuma loja? \n",
        "1. Quais produtos são exclusivos de cada loja? \n",
        "1. Se for possível escolher duas lojas pra cobrir um número maior de presentes, qual é o maior número de presentes que é possível cobrir dessa forma? \n",
        "\n",
        "Faça um programa que calcule e imprima as respostas para estas perguntas. As 3 primeiras perguntas podem ser respondidas imprimindo conjuntos ou listas com os produtos correspondentes. A quarta pergunta pode ser respondida imprimindo uma lista de 4 coleções de produtos, ou imprimindo uma coleção por linha. A quinta pergunta pode ser respondida apenas com o número de presentes da melhor combinação de lojas, não precisa dizer qual é a combinação. \n",
        "\n",
        "Abaixo, você encontra duas células: a primeira contém valores exemplo para a lista de presentes e para os catálogos das lojas; a segunda a saída esperada do programa, dadas estas definições. Escreva seu programa em uma célula intermediária."
      ]
    },
    {
      "cell_type": "code",
      "metadata": {
        "id": "BZO47Be8tAg-"
      },
      "source": [
        "presentes = {\n",
        "    'cadeira', 'cafeteira', 'caneca', 'escumadeira',\n",
        "    'espanador', 'espátula', 'estante', 'faqueiro',\n",
        "    'frigideira', 'funil', 'halter', 'liquidificador',\n",
        "    'notebook', 'panela', 'peneira', 'playstation',\n",
        "    'rádio', 'smartphone', 'sofá', 'tablet', 'teclado',\n",
        "    'televisão', 'vassoura', 'webcam', 'xbox',\n",
        "}\n",
        "\n",
        "loja1 = {\n",
        "    'cadeira', 'cafeteira', 'caneca', 'escumadeira', 'estante',\n",
        "    'frigideira', 'funil', 'liquidificador', 'notebook', 'panela',\n",
        "    'playstation', 'smartphone', 'teclado', 'televisão'}\n",
        "loja2 = {\n",
        "    'cafeteira', 'escumadeira', 'espanador', 'frigideira', 'funil',\n",
        "    'halter', 'peneira', 'playstation', 'sofá', 'tablet', 'televisão',\n",
        "    'vassoura', 'webcam', 'xbox'}\n",
        "loja3 = {\n",
        "    'caneca', 'escumadeira', 'espanador', 'espátula', 'estante',\n",
        "    'frigideira', 'halter', 'playstation', 'rádio', 'smartphone',\n",
        "    'sofá', 'teclado', 'televisão', 'vassoura', 'xbox'}\n",
        "loja4 = {\n",
        "    'caneca', 'escumadeira', 'espanador', 'espátula', 'estante',\n",
        "    'frigideira', 'halter', 'playstation', 'rádio', 'smartphone',\n",
        "    'sofá', 'teclado', 'televisão', 'vassoura', 'xbox'}"
      ],
      "execution_count": null,
      "outputs": []
    },
    {
      "cell_type": "raw",
      "metadata": {
        "id": "MkymmOeztAhA"
      },
      "source": [
        "1. Produtos oferecidos em alguma loja: {'teclado', 'rádio', 'xbox', 'espanador', 'playstation', 'peneira', 'tablet', 'cafeteira', 'caneca', 'estante', 'escumadeira', 'smartphone', 'vassoura', 'espátula', 'liquidificador', 'cadeira', 'webcam', 'notebook', 'sofá', 'panela', 'funil', 'televisão', 'frigideira', 'halter'}\n",
        "2. Produtos em todas as lojas: {'escumadeira', 'frigideira', 'playstation', 'televisão'}\n",
        "3. Produtos não encontrados: {'faqueiro'}\n",
        "4. Produtos exclusivos: [{'cadeira', 'liquidificador', 'notebook', 'panela'},\n",
        "                         {'peneira', 'tablet', 'webcam'},\n",
        "                         set(),\n",
        "                         set()]\n",
        "5. Melhore dupla tem 22 itens"
      ]
    },
    {
      "cell_type": "markdown",
      "metadata": {
        "id": "EuinxarmtSae"
      },
      "source": [
        ""
      ]
    },
    {
      "cell_type": "code",
      "metadata": {
        "colab": {
          "base_uri": "https://localhost:8080/"
        },
        "id": "3jNMjKI8tVWN",
        "outputId": "88cc3293-5d8b-4a89-c75b-fee7004c1a59"
      },
      "source": [
        "union = set(loja1 | loja2 | loja3 | loja4)\n",
        "interseccao = set(loja1 & loja2 & loja3 & loja4)\n",
        "\n",
        "resp1 = union & presentes\n",
        "resp2 = interseccao & presentes\n",
        "resp3 = presentes-union\n",
        "resp = union | presentes\n",
        "resp4 = set(loja1-loja2-loja3-loja4), set(loja2-loja3-loja4-loja1), set(loja3-loja4-loja1-loja2),set(loja4-loja1-loja2-loja3)\n",
        "\n",
        "print(\"Resposta 1: \", resp1)\n",
        "print(\"Resposta 2: \", resp2)\n",
        "print(\"Resposta 3: \", resp3)\n",
        "print(\"Resposta 4: \", resp4)\n"
      ],
      "execution_count": null,
      "outputs": [
        {
          "output_type": "stream",
          "name": "stdout",
          "text": [
            "Resposta 1:  {'liquidificador', 'estante', 'teclado', 'xbox', 'rádio', 'playstation', 'funil', 'espanador', 'smartphone', 'tablet', 'espátula', 'sofá', 'panela', 'caneca', 'escumadeira', 'cafeteira', 'cadeira', 'halter', 'notebook', 'televisão', 'vassoura', 'peneira', 'webcam', 'frigideira'}\n",
            "Resposta 2:  {'frigideira', 'televisão', 'escumadeira', 'playstation'}\n",
            "Resposta 3:  {'faqueiro'}\n",
            "Resposta 4:  ({'cadeira', 'liquidificador', 'notebook', 'panela'}, {'webcam', 'peneira', 'tablet'}, set(), set())\n"
          ]
        }
      ]
    }
  ]
}